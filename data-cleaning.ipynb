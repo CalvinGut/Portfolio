{
  "nbformat": 4,
  "nbformat_minor": 0,
  "metadata": {
    "colab": {
      "provenance": [],
      "authorship_tag": "ABX9TyM/GNXtexmdR/aXfPYb9GWX"
    },
    "kernelspec": {
      "name": "python3",
      "display_name": "Python 3"
    },
    "language_info": {
      "name": "python"
    }
  },
  "cells": [
    {
      "cell_type": "markdown",
      "source": [
        "# Data Cleaning"
      ],
      "metadata": {
        "id": "-2YT5_WXlfdk"
      }
    },
    {
      "cell_type": "markdown",
      "source": [
        "## Handling Missing Values"
      ],
      "metadata": {
        "id": "kJPPOVJElwTu"
      }
    },
    {
      "cell_type": "markdown",
      "source": [],
      "metadata": {
        "id": "I-i5bEasl5fi"
      }
    },
    {
      "cell_type": "code",
      "source": [],
      "metadata": {
        "id": "F-yItTEqlnNu"
      },
      "execution_count": null,
      "outputs": []
    }
  ]
}